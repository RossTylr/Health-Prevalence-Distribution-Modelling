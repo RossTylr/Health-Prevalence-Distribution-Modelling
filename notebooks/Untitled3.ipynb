{
 "cells": [
  {
   "cell_type": "code",
   "execution_count": 1,
   "id": "4bd7ebbe-d47f-4884-8605-4992d950fb0a",
   "metadata": {},
   "outputs": [
    {
     "ename": "ModuleNotFoundError",
     "evalue": "No module named 'requests_cache'",
     "output_type": "error",
     "traceback": [
      "\u001b[0;31m---------------------------------------------------------------------------\u001b[0m",
      "\u001b[0;31mModuleNotFoundError\u001b[0m                       Traceback (most recent call last)",
      "Cell \u001b[0;32mIn[1], line 9\u001b[0m\n\u001b[1;32m      7\u001b[0m \u001b[38;5;28;01mimport\u001b[39;00m\u001b[38;5;250m \u001b[39m\u001b[38;5;21;01mpandas\u001b[39;00m\u001b[38;5;250m \u001b[39m\u001b[38;5;28;01mas\u001b[39;00m\u001b[38;5;250m \u001b[39m\u001b[38;5;21;01mpd\u001b[39;00m\n\u001b[1;32m      8\u001b[0m \u001b[38;5;28;01mimport\u001b[39;00m\u001b[38;5;250m \u001b[39m\u001b[38;5;21;01mrequests\u001b[39;00m\n\u001b[0;32m----> 9\u001b[0m \u001b[38;5;28;01mimport\u001b[39;00m\u001b[38;5;250m \u001b[39m\u001b[38;5;21;01mrequests_cache\u001b[39;00m           \u001b[38;5;66;03m# <— light-weight API call caching\u001b[39;00m\n\u001b[1;32m     10\u001b[0m \u001b[38;5;28;01mimport\u001b[39;00m\u001b[38;5;250m \u001b[39m\u001b[38;5;21;01mfingertips_py\u001b[39;00m\u001b[38;5;250m \u001b[39m\u001b[38;5;28;01mas\u001b[39;00m\u001b[38;5;250m \u001b[39m\u001b[38;5;21;01mftp\u001b[39;00m     \u001b[38;5;66;03m# pip install fingertips_py\u001b[39;00m\n\u001b[1;32m     12\u001b[0m \u001b[38;5;66;03m# Local helper (already in src/)\u001b[39;00m\n",
      "\u001b[0;31mModuleNotFoundError\u001b[0m: No module named 'requests_cache'"
     ]
    }
   ],
   "source": [
    "# 0️⃣ Environment & imports ----------------------------------------------------\n",
    "# Activate the correct Conda env first: conda activate health_modelling\n",
    "\n",
    "from pathlib import Path\n",
    "import json\n",
    "import warnings\n",
    "import pandas as pd\n",
    "import requests\n",
    "import requests_cache           # <— light-weight API call caching\n",
    "import fingertips_py as ftp     # pip install fingertips_py\n",
    "\n",
    "# Local helper (already in src/)\n",
    "import sys; sys.path.append(\"..\")\n",
    "from src.phe_api_utils import (\n",
    "    get_profile_indicators,\n",
    "    get_area_types,\n",
    "    get_data_for_indicator,\n",
    ")\n",
    "\n",
    "# Cache GET requests for 12 hours to avoid hammering the API\n",
    "requests_cache.install_cache(\"fingertips_cache\", expire_after=12*60*60)\n",
    "\n",
    "pd.set_option(\"display.max_columns\", 50)\n",
    "warnings.filterwarnings(\"ignore\")\n"
   ]
  }
 ],
 "metadata": {
  "kernelspec": {
   "display_name": "Python 3 (ipykernel)",
   "language": "python",
   "name": "python3"
  },
  "language_info": {
   "codemirror_mode": {
    "name": "ipython",
    "version": 3
   },
   "file_extension": ".py",
   "mimetype": "text/x-python",
   "name": "python",
   "nbconvert_exporter": "python",
   "pygments_lexer": "ipython3",
   "version": "3.10.18"
  }
 },
 "nbformat": 4,
 "nbformat_minor": 5
}
