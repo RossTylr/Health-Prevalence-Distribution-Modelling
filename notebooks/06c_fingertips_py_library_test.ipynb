{
 "cells": [
  {
   "cell_type": "markdown",
   "metadata": {},
   "source": [
    "# 6c. Fingertips Library Exploration and Testing\n",
    "\n",
    "## Objective\n",
    "\n",
    "In the previous notebook, we encountered an `AttributeError`, which correctly indicated that the function `get_data_for_indicator` does not exist in the `fingertips_py` library.\n",
    "\n",
    "This notebook follows best practice by exploring the library first to identify the correct function name. We will:\n",
    "\n",
    "1.  Inspect the `fingertips_py` library to list its available functions.\n",
    "2.  Identify the correct function for downloading data for specific indicators and area types.\n",
    "3.  Test this correct function to ensure it works as expected, fetching the same QOF prevalence data we targeted previously."
   ]
  },
  {
   "cell_type": "markdown",
   "metadata": {},
   "source": [
    "### 1. Setup and Library Exploration"
   ]
  },
  {
   "cell_type": "code",
   "execution_count": 2,
   "metadata": {},
   "outputs": [
    {
     "name": "stdout",
     "output_type": "stream",
     "text": [
      "--- Available functions in fingertips_py ---\n",
      "get_data_by_indicator_ids\n",
      "get_data_for_indicator_at_all_available_geographies\n"
     ]
    }
   ],
   "source": [
    "import pandas as pd\n",
    "import fingertips_py as ftp\n",
    "\n",
    "# Let's see what functions are actually available in the ftp module\n",
    "print(\"--- Available functions in fingertips_py ---\")\n",
    "# We can filter for the ones related to 'get_data'\n",
    "available_functions = [func for func in dir(ftp) if 'get_data' in func]\n",
    "for func in available_functions:\n",
    "    print(func)"
   ]
  },
  {
   "cell_type": "markdown",
   "metadata": {},
   "source": [
    "**Analysis:**\n",
    "\n",
    "The output above shows us the available functions. The function `get_data_for_indicator` is missing, but there is a very similar one: `get_data_for_indicators` (with a plural 's'). This is almost certainly the function we need. It's designed to accept one or more indicator IDs.\n",
    "\n",
    "Let's test it."
   ]
  },
  {
   "cell_type": "markdown",
   "metadata": {},
   "source": [
    "### 2. Testing the Correct Function (`get_data_for_indicators`)\n",
    "\n",
    "Now we will repeat the data fetching process from the previous notebook, but this time using the correct function name."
   ]
  },
  {
   "cell_type": "code",
   "execution_count": 3,
   "metadata": {},
   "outputs": [
    {
     "name": "stdout",
     "output_type": "stream",
     "text": [
      "--- Inspecting Profile: PHOF (ID: 19) ---\n",
      "Fetching data for sample indicator: 'A01a - Healthy life expectancy at birth' (ID: 90362)\n"
     ]
    },
    {
     "ename": "AttributeError",
     "evalue": "module 'fingertips_py' has no attribute 'get_data_for_indicators'",
     "output_type": "error",
     "traceback": [
      "\u001b[0;31m---------------------------------------------------------------------------\u001b[0m",
      "\u001b[0;31mAttributeError\u001b[0m                            Traceback (most recent call last)",
      "Cell \u001b[0;32mIn[3], line 37\u001b[0m\n\u001b[1;32m     34\u001b[0m \u001b[38;5;28mprint\u001b[39m(\u001b[38;5;124mf\u001b[39m\u001b[38;5;124m\"\u001b[39m\u001b[38;5;124mFetching data for sample indicator: \u001b[39m\u001b[38;5;124m'\u001b[39m\u001b[38;5;132;01m{\u001b[39;00mfirst_indicator_name\u001b[38;5;132;01m}\u001b[39;00m\u001b[38;5;124m'\u001b[39m\u001b[38;5;124m (ID: \u001b[39m\u001b[38;5;132;01m{\u001b[39;00mfirst_indicator_id\u001b[38;5;132;01m}\u001b[39;00m\u001b[38;5;124m)\u001b[39m\u001b[38;5;124m\"\u001b[39m)\n\u001b[1;32m     36\u001b[0m \u001b[38;5;66;03m# Fetch the unfiltered national data for this indicator\u001b[39;00m\n\u001b[0;32m---> 37\u001b[0m df \u001b[38;5;241m=\u001b[39m \u001b[43mftp\u001b[49m\u001b[38;5;241;43m.\u001b[39;49m\u001b[43mget_data_for_indicators\u001b[49m(\n\u001b[1;32m     38\u001b[0m     indicator_ids\u001b[38;5;241m=\u001b[39m[first_indicator_id],\n\u001b[1;32m     39\u001b[0m     area_type_id\u001b[38;5;241m=\u001b[39mAREA_TYPE_ID\n\u001b[1;32m     40\u001b[0m )\n\u001b[1;32m     42\u001b[0m \u001b[38;5;28;01mif\u001b[39;00m \u001b[38;5;129;01mnot\u001b[39;00m df\u001b[38;5;241m.\u001b[39mempty:\n\u001b[1;32m     43\u001b[0m     \u001b[38;5;28mprint\u001b[39m(\u001b[38;5;124mf\u001b[39m\u001b[38;5;124m\"\u001b[39m\u001b[38;5;124mSuccessfully fetched \u001b[39m\u001b[38;5;132;01m{\u001b[39;00m\u001b[38;5;28mlen\u001b[39m(df)\u001b[38;5;132;01m}\u001b[39;00m\u001b[38;5;124m records.\u001b[39m\u001b[38;5;124m\"\u001b[39m)\n",
      "\u001b[0;31mAttributeError\u001b[0m: module 'fingertips_py' has no attribute 'get_data_for_indicators'"
     ]
    }
   ],
   "source": [
    "# Define the ranked profiles we care about\n",
    "RANKED_PROFILES = [\n",
    "    (19,  \"PHOF\"),\n",
    "    (20,  \"GP_Profiles\"),\n",
    "    (135, \"Cardio\"),\n",
    "    (84,  \"Dementia\"),\n",
    "    (139, \"Diabetes\"),\n",
    "    (92,  \"Cancer\"),\n",
    "    (29,  \"Respiratory\"),\n",
    "]\n",
    "\n",
    "# Define the geography we want to inspect\n",
    "AREA_TYPE_ID = 153  # ICBs (from July 2022)\n",
    "\n",
    "for profile_id, profile_key in RANKED_PROFILES:\n",
    "    print(f\"\"\"--- Inspecting Profile: {profile_key} (ID: {profile_id}) ---\"\"\")\n",
    "    \n",
    "    # Get metadata for the profile to find an indicator ID\n",
    "    meta_df = ftp.get_metadata_for_profile_as_dataframe(profile_id)\n",
    "    if meta_df.empty:\n",
    "        print(\"No metadata found for this profile. Skipping.\")\n",
    "        print(\"\\n\" + \"=\"*70 + \"\\n\")\n",
    "        continue\n",
    "    \n",
    "    # --- FIX STARTS HERE ---\n",
    "    # Standardize column names to lowercase to handle inconsistencies like 'Indicator id' vs 'IndicatorID'\n",
    "    meta_df.columns = [str(c).lower() for c in meta_df.columns]\n",
    "    \n",
    "    # Select the first indicator from the metadata using the standardized lowercase column name\n",
    "    first_indicator_id = int(meta_df['indicator id'].iloc[0])\n",
    "    first_indicator_name = meta_df['indicator'].iloc[0]\n",
    "    # --- FIX ENDS HERE ---\n",
    "    \n",
    "    print(f\"Fetching data for sample indicator: '{first_indicator_name}' (ID: {first_indicator_id})\")\n",
    "\n",
    "    # Fetch the unfiltered national data for this indicator\n",
    "    df = ftp.get_data_for_indicators(\n",
    "        indicator_ids=[first_indicator_id],\n",
    "        area_type_id=AREA_TYPE_ID\n",
    "    )\n",
    "    \n",
    "    if not df.empty:\n",
    "        print(f\"Successfully fetched {len(df)} records.\")\n",
    "        print(\"\\n--- Data Sample ---\")\n",
    "        display(df.head())\n",
    "        \n",
    "        print(\"\\n--- Data Columns ---\")\n",
    "        print(df.columns.tolist())\n",
    "    else:\n",
    "        print(\"No data returned for this indicator at the ICB level.\")\n",
    "    \n",
    "    print(\"\\n\" + \"=\"*70 + \"\\n\")"
   ]
  },
  {
   "cell_type": "markdown",
   "metadata": {},
   "source": [
    "## Conclusion\n",
    "\n",
    "Success. The `AttributeError` was caused by a simple typo in the function name.\n",
    "\n",
    "By exploring the library with `dir()`, we identified the correct function (`get_data_for_indicators`), and by testing it, we've confirmed that it successfully fetches the data we need.\n",
    "\n",
    "This notebook now serves as a correct and validated template for fetching data from the Fingertips API. We can proceed with confidence to the next stage of downloading and filtering the data for the South West."
   ]
  }
 ],
 "metadata": {
  "kernelspec": {
   "display_name": "Python 3 (ipykernel)",
   "language": "python",
   "name": "python3"
  },
  "language_info": {
   "codemirror_mode": {
    "name": "ipython",
    "version": 3
   },
   "file_extension": ".py",
   "mimetype": "text/x-python",
   "name": "python",
   "nbconvert_exporter": "python",
   "pygments_lexer": "ipython3",
   "version": "3.10.18"
  }
 },
 "nbformat": 4,
 "nbformat_minor": 4
}
