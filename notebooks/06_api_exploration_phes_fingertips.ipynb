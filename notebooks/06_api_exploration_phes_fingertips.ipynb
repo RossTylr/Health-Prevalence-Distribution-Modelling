{
 "cells": [
  {
   "cell_type": "markdown",
   "metadata": {},
   "source": [
    "# 6. API Exploration: Public Health England's Fingertips\n",
    "\n",
    "## From Theory to Practice\n",
    "\n",
    "In the previous notebooks, we used synthetic data to explore how Probability Density Functions (PDFs) can model health prevalence. Now, we need **real data** to ground these models in reality. \n",
    "\n",
    "One of the richest sources of UK public health data is the **Fingertips API** from Public Health England (now the Office for Health Improvement and Disparities). This API provides access to hundreds of health indicators across dozens of thematic profiles.\n",
    "\n",
    "## Objective\n",
    "\n",
    "The goal of this notebook is to systematically explore the structure of the Fingertips API. We need to understand what data is available before we can extract it. We will:\n",
    "\n",
    "1.  **List all available Profiles**: These are thematic collections of data (e.g., 'Cardiovascular Disease', 'Public Health Outcomes Framework').\n",
    "2.  **Inspect the Indicators within a Profile**: See what specific metrics are available.\n",
    "3.  **List all available Area Types**: Understand the different geographic levels we can get data for (e.g., ICBs, Local Authorities, GP Practices).\n",
    "4.  **Fetch a sample of data**: Test our functions to pull data for a specific indicator and area type.\n",
    "\n",
    "This process will create a 'map' of the API that will guide our data acquisition in the following notebooks."
   ]
  },
  {
   "cell_type": "code",
   "execution_count": 6,
   "metadata": {},
   "outputs": [
    {
     "name": "stdout",
     "output_type": "stream",
     "text": [
      "Collecting requests_cache\n",
      "  Downloading requests_cache-1.2.1-py3-none-any.whl.metadata (9.9 kB)\n",
      "Requirement already satisfied: attrs>=21.2 in /opt/anaconda3/envs/health_modelling/lib/python3.10/site-packages (from requests_cache) (25.3.0)\n",
      "Collecting cattrs>=22.2 (from requests_cache)\n",
      "  Downloading cattrs-25.1.1-py3-none-any.whl.metadata (8.4 kB)\n",
      "Requirement already satisfied: platformdirs>=2.5 in /opt/anaconda3/envs/health_modelling/lib/python3.10/site-packages (from requests_cache) (4.3.8)\n",
      "Requirement already satisfied: requests>=2.22 in /opt/anaconda3/envs/health_modelling/lib/python3.10/site-packages (from requests_cache) (2.32.4)\n",
      "Collecting url-normalize>=1.4 (from requests_cache)\n",
      "  Downloading url_normalize-2.2.1-py3-none-any.whl.metadata (5.6 kB)\n",
      "Requirement already satisfied: urllib3>=1.25.5 in /opt/anaconda3/envs/health_modelling/lib/python3.10/site-packages (from requests_cache) (2.4.0)\n",
      "Requirement already satisfied: exceptiongroup>=1.1.1 in /opt/anaconda3/envs/health_modelling/lib/python3.10/site-packages (from cattrs>=22.2->requests_cache) (1.3.0)\n",
      "Requirement already satisfied: typing-extensions>=4.12.2 in /opt/anaconda3/envs/health_modelling/lib/python3.10/site-packages (from cattrs>=22.2->requests_cache) (4.14.0)\n",
      "Requirement already satisfied: charset_normalizer<4,>=2 in /opt/anaconda3/envs/health_modelling/lib/python3.10/site-packages (from requests>=2.22->requests_cache) (3.4.2)\n",
      "Requirement already satisfied: idna<4,>=2.5 in /opt/anaconda3/envs/health_modelling/lib/python3.10/site-packages (from requests>=2.22->requests_cache) (3.10)\n",
      "Requirement already satisfied: certifi>=2017.4.17 in /opt/anaconda3/envs/health_modelling/lib/python3.10/site-packages (from requests>=2.22->requests_cache) (2025.4.26)\n",
      "Downloading requests_cache-1.2.1-py3-none-any.whl (61 kB)\n",
      "Downloading cattrs-25.1.1-py3-none-any.whl (69 kB)\n",
      "Downloading url_normalize-2.2.1-py3-none-any.whl (14 kB)\n",
      "Installing collected packages: url-normalize, cattrs, requests_cache\n",
      "\u001b[2K   \u001b[38;2;114;156;31m━━━━━━━━━━━━━━━━━━━━━━━━━━━━━━━━━━━━━━━━\u001b[0m \u001b[32m3/3\u001b[0m [requests_cache]\n",
      "\u001b[1A\u001b[2KSuccessfully installed cattrs-25.1.1 requests_cache-1.2.1 url-normalize-2.2.1\n"
     ]
    }
   ],
   "source": [
    "!pip install requests_cache  "
   ]
  },
  {
   "cell_type": "code",
   "execution_count": 7,
   "metadata": {},
   "outputs": [],
   "source": [
    "# Environment & imports ----------------------------------------------------\n",
    "# Activate the correct Conda env first: conda activate health_modelling\n",
    "from pathlib import Path\n",
    "import json\n",
    "import warnings\n",
    "import pandas as pd\n",
    "import requests\n",
    "import requests_cache           # <— light-weight API call caching\n",
    "import fingertips_py as ftp     # pip install fingertips_py"
   ]
  },
  {
   "cell_type": "code",
   "execution_count": 8,
   "metadata": {},
   "outputs": [],
   "source": [
    "# Local helper (already in src/)\n",
    "# This assumes your script is running from the 'notebooks' directory.\n",
    "try:\n",
    "    sys.path.append('../src')\n",
    "    import phe_api_utils as phe_utils\n",
    "except ImportError:\n",
    "    print(\"Could not import phe_api_utils.py, defining fallbacks.\")\n",
    "    # Define functions here as a fallback if import fails\n",
    "    import requests\n",
    "    import time\n",
    "\n",
    "    BASE_URL = \"https://fingertips.phe.org.uk/api/\"\n",
    "\n",
    "    def fetch_json(endpoint: str, params: dict = None):\n",
    "        url = BASE_URL.rstrip('/') + endpoint\n",
    "        try:\n",
    "            resp = requests.get(url, params=params)\n",
    "            resp.raise_for_status()\n",
    "            time.sleep(0.2)\n",
    "            return resp.json()\n",
    "        except requests.exceptions.RequestException as e:\n",
    "            print(f\"Error fetching {url}: {e}\")\n",
    "            return None\n",
    "\n",
    "    def get_profile_indicators(profile_id: int) -> pd.DataFrame:\n",
    "        data = fetch_json(f'/indicator_metadata/by_profile_id', params={'profile_id': profile_id})\n",
    "        if not data: return pd.DataFrame()\n",
    "        df = pd.DataFrame.from_dict(data, orient='index')\n",
    "        df.index.name = 'IndicatorID'\n",
    "        return df\n",
    "\n",
    "    def get_area_types() -> pd.DataFrame:\n",
    "        data = fetch_json('/area_types')\n",
    "        return pd.DataFrame(data) if data else pd.DataFrame()\n",
    "\n",
    "    def get_data_for_indicator(indicator_id: int, area_type_id: int, parent_code: str = None) -> pd.DataFrame:\n",
    "        params = {'indicator_id': indicator_id, 'area_type_id': area_type_id}\n",
    "        if parent_code:\n",
    "            params['parent_area_code'] = parent_code\n",
    "        data = fetch_json('/all_data/for_indicator_at_area_type', params=params)\n",
    "        return pd.DataFrame(data) if data else pd.DataFrame()\n",
    "\n",
    "    class PheApiUtils:\n",
    "        get_profile_indicators = staticmethod(get_profile_indicators)\n",
    "        get_area_types = staticmethod(get_area_types)\n",
    "        get_data_for_indicator = staticmethod(get_data_for_indicator)\n",
    "    \n",
    "    phe_utils = PheApiUtils()\n",
    "\n",
    "# Cache GET requests for 12 hours to avoid hammering the API\n",
    "requests_cache.install_cache(\"fingertips_cache\", expire_after=12*60*60)\n",
    "\n",
    "pd.set_option(\"display.max_columns\", 50)\n",
    "warnings.filterwarnings(\"ignore\")"
   ]
  },
  {
   "cell_type": "code",
   "execution_count": 9,
   "metadata": {},
   "outputs": [
    {
     "name": "stdout",
     "output_type": "stream",
     "text": [
      "--- Ranked Profiles ---\n",
      "   Rank   Id          Key                             Profile\n",
      "0     1   19         PHOF    Public Health Outcomes Framework\n",
      "1     2   20  GP_Profiles  National General Practice Profiles\n",
      "2     3  135       Cardio              Cardiovascular Disease\n",
      "3     4   84     Dementia                    Dementia Profile\n",
      "4     5  139     Diabetes                            Diabetes\n",
      "5     6   92       Cancer                     Cancer Services\n",
      "6     7   29  Respiratory                 Respiratory disease\n"
     ]
    }
   ],
   "source": [
    "# Ranked profiles you care about ------------------------------------------\n",
    "RANKED_PROFILES = [\n",
    "    # rank, profile_id, short_name\n",
    "    (1,  19,  \"PHOF\"),\n",
    "    (2,  20,  \"GP_Profiles\"),\n",
    "    (3, 135,  \"Cardio\"),\n",
    "    (4,  84,  \"Dementia\"),\n",
    "    (5, 139,  \"Diabetes\"),\n",
    "    (6,  92,  \"Cancer\"),\n",
    "    (7,  29,  \"Respiratory\"),\n",
    "]\n",
    "\n",
    "rank_df = (\n",
    "    pd.DataFrame(RANKED_PROFILES, columns=[\"Rank\", \"Id\", \"Key\"])\n",
    "      .assign(Profile=lambda d: d[\"Id\"].map(\n",
    "          lambda x: ftp.get_profile_by_id(x)[\"Name\"]))\n",
    ")\n",
    "print(\"--- Ranked Profiles ---\")\n",
    "print(rank_df)"
   ]
  },
  {
   "cell_type": "code",
   "execution_count": 11,
   "metadata": {},
   "outputs": [
    {
     "name": "stdout",
     "output_type": "stream",
     "text": [
      "\n",
      "--- Profile Summary with Indicator Counts ---\n",
      "   Rank   Id          Key                             Profile  Indicators\n",
      "0     1   19         PHOF    Public Health Outcomes Framework         173\n",
      "1     2   20  GP_Profiles  National General Practice Profiles         143\n",
      "2     3  135       Cardio              Cardiovascular Disease          63\n",
      "3     4   84     Dementia                    Dementia Profile          28\n",
      "4     5  139     Diabetes                            Diabetes          61\n",
      "5     6   92       Cancer                     Cancer Services          35\n",
      "6     7   29  Respiratory                 Respiratory disease          40\n"
     ]
    }
   ],
   "source": [
    "# Fast indicator-level summary for each profile ----------------------------\n",
    "def profile_quick_meta(profile_id: int) -> pd.DataFrame:\n",
    "    \"\"\"Return indicator metadata with minimal cleaning. Handles missing columns.\"\"\"\n",
    "    meta = ftp.get_metadata_for_profile_as_dataframe(profile_id)\n",
    "    if meta.empty:\n",
    "        meta = phe_utils.get_profile_indicators(profile_id)  # fallback to custom helper\n",
    "    if meta.empty:\n",
    "        return pd.DataFrame()\n",
    "\n",
    "    renamed_meta = meta.rename(columns=str.capitalize)\n",
    "\n",
    "    # Define desired columns and find which ones are actually available\n",
    "    desired_cols = [\"Indicator id\", \"Indicator\", \"Age\", \"Sex\", \"Unit\"]\n",
    "    available_cols = [col for col in desired_cols if col in renamed_meta.columns]\n",
    "    \n",
    "    return (\n",
    "        renamed_meta.loc[:, available_cols]\n",
    "            .dropna(subset=[\"Indicator id\"])\n",
    "    )\n",
    "\n",
    "profile_meta = {pid: profile_quick_meta(pid) for pid in rank_df[\"Id\"]}\n",
    "rank_df[\"Indicators\"] = rank_df[\"Id\"].map(lambda x: len(profile_meta.get(x, [])))\n",
    "print(\"\\n--- Profile Summary with Indicator Counts ---\")\n",
    "print(rank_df)"
   ]
  },
  {
   "cell_type": "code",
   "execution_count": 24,
   "metadata": {},
   "outputs": [
    {
     "name": "stdout",
     "output_type": "stream",
     "text": [
      "\n",
      "--- Exploring and Exporting Indicator Metadata for each Profile ---\n",
      "\n",
      "\n",
      "--- PHOF (Public Health Outcomes Framework) ---\n",
      "Found 173 indicators. First 5:\n",
      "   Indicator id                                        Indicator   Unit\n",
      "0         90362          A01a - Healthy life expectancy at birth  Years\n",
      "1         90366                  A01b - Life expectancy at birth  Years\n",
      "2         91102                     A01b - Life expectancy at 65  Years\n",
      "3         92901    A02a - Inequality in life expectancy at birth  Years\n",
      "4         93562  A01c - Disability free life expectancy at birth  Years\n",
      "  → Full list of 173 indicators exported to: meta_19_PHOF.csv\n",
      "\n",
      "\n",
      "--- GP_Profiles (National General Practice Profiles) ---\n",
      "Found 143 indicators. First 5:\n",
      "   Indicator id  \\\n",
      "0         93468   \n",
      "1         93553   \n",
      "2         93438   \n",
      "3         94126   \n",
      "4         94129   \n",
      "\n",
      "                                                                   Indicator  \\\n",
      "0                       Proportion of GP registered populations by age group   \n",
      "1                                               Deprivation score (IMD 2019)   \n",
      "2                      % who have a positive experience of their GP practice   \n",
      "3  % of patients who had a good experience when contacting their GP practice   \n",
      "4   % of patients whose needs were met at their last GP practice appointment   \n",
      "\n",
      "  Unit  \n",
      "0    %  \n",
      "1  NaN  \n",
      "2    %  \n",
      "3    %  \n",
      "4    %  \n",
      "  → Full list of 143 indicators exported to: meta_20_GP_Profiles.csv\n",
      "\n",
      "\n",
      "--- Cardio (Cardiovascular Disease) ---\n",
      "Found 63 indicators. First 5:\n",
      "   Indicator id                                                   Indicator  \\\n",
      "0           219                                Hypertension: QOF prevalence   \n",
      "1         94111      Estimated prevalence of undiagnosed adult hypertension   \n",
      "2         94138  Hypertension patients with a recent blood pressure reading   \n",
      "3         93553                                Deprivation score (IMD 2019)   \n",
      "4         94140      Hypertension patients treated to appropriate threshold   \n",
      "\n",
      "  Unit  \n",
      "0    %  \n",
      "1    %  \n",
      "2    %  \n",
      "3  NaN  \n",
      "4    %  \n",
      "  → Full list of 63 indicators exported to: meta_135_Cardio.csv\n",
      "\n",
      "\n",
      "--- Dementia (Dementia Profile) ---\n",
      "Found 28 indicators. First 5:\n",
      "   Indicator id                                                Indicator  \\\n",
      "0         94136                 Obesity: QOF prevalence (new definition)   \n",
      "1         91280                                  Smoking: QOF prevalence   \n",
      "2         93015                 Percentage of physically inactive adults   \n",
      "3         92949    Estimated dementia diagnosis rate (aged 65 and older)   \n",
      "4         91891  Dementia: Recorded prevalence (aged 65 years and older)   \n",
      "\n",
      "      Unit  \n",
      "0        %  \n",
      "1        %  \n",
      "2        %  \n",
      "3  per 100  \n",
      "4        %  \n",
      "  → Full list of 28 indicators exported to: meta_84_Dementia.csv\n",
      "\n",
      "\n",
      "--- Diabetes (Diabetes) ---\n",
      "Found 61 indicators. First 5:\n",
      "   Indicator id  \\\n",
      "0           241   \n",
      "1         94146   \n",
      "2         94192   \n",
      "3         93047   \n",
      "4         93995   \n",
      "\n",
      "                                                                                          Indicator  \\\n",
      "0                                                                          Diabetes: QOF prevalence   \n",
      "1  People with type 1 diabetes who received all 9 care process checks (including retinal screening)   \n",
      "2                                 Estimated prevalence of diagnosed and undiagnosed type 2 diabetes   \n",
      "3                                   Major lower-limb amputation procedures for people with diabetes   \n",
      "4                                            Mortality rate for deaths involving diabetes, all ages   \n",
      "\n",
      "          Unit  \n",
      "0            %  \n",
      "1            %  \n",
      "2            %  \n",
      "3   per 10,000  \n",
      "4  per 100,000  \n",
      "  → Full list of 61 indicators exported to: meta_139_Diabetes.csv\n",
      "\n",
      "\n",
      "--- Cancer (Cancer Services) ---\n",
      "Found 35 indicators. First 5:\n",
      "   Indicator id                                             Indicator  \\\n",
      "0         93468  Proportion of GP registered populations by age group   \n",
      "1         93553                          Deprivation score (IMD 2019)   \n",
      "2         91337               New cancer cases (Crude incidence rate)   \n",
      "3         94063    Breast screening coverage: aged 53 to 70 years old   \n",
      "4         93725  Cervical screening coverage: aged 25 to 49 years old   \n",
      "\n",
      "          Unit  \n",
      "0            %  \n",
      "1          NaN  \n",
      "2  per 100,000  \n",
      "3            %  \n",
      "4            %  \n",
      "  → Full list of 35 indicators exported to: meta_92_Cancer.csv\n",
      "\n",
      "\n",
      "--- Respiratory (Respiratory disease) ---\n",
      "Found 40 indicators. First 5:\n",
      "   Indicator id                                              Indicator  \\\n",
      "0         93575  Emergency hospital admissions for respiratory disease   \n",
      "1         93643       Mortality rate from COPD as a contributory cause   \n",
      "2         93963      Mortality rate from respiratory disease, all ages   \n",
      "3           253                                   COPD: QOF prevalence   \n",
      "4         40701       Under 75 mortality rate from respiratory disease   \n",
      "\n",
      "          Unit  \n",
      "0  per 100,000  \n",
      "1  per 100,000  \n",
      "2  per 100,000  \n",
      "3            %  \n",
      "4  per 100,000  \n",
      "  → Full list of 40 indicators exported to: meta_29_Respiratory.csv\n"
     ]
    }
   ],
   "source": [
    "# Explore and Export Indicator Metadata -------------------------------------\n",
    "# ADDED: This new block prints the first 5 indicators and exports the full list to CSV.\n",
    "print(\"\\n--- Exploring and Exporting Indicator Metadata for each Profile ---\")\n",
    "META_OUT = Path(\"../data/metadata\") # Define output path for metadata\n",
    "META_OUT.mkdir(parents=True, exist_ok=True)\n",
    "\n",
    "for pid, meta_df in profile_meta.items():\n",
    "    profile_name = rank_df.loc[rank_df['Id'] == pid, 'Profile'].iloc[0]\n",
    "    profile_key = rank_df.loc[rank_df['Id'] == pid, 'Key'].iloc[0]\n",
    "    print(f\"\\n\\n--- {profile_key} ({profile_name}) ---\")\n",
    "    if not meta_df.empty:\n",
    "        print(f\"Found {len(meta_df)} indicators. First 5:\")\n",
    "        # In a real notebook, `display()` is better, but print() works in scripts.\n",
    "        print(meta_df.head(5))\n",
    "\n",
    "        # Export the full metadata to CSV\n",
    "        meta_csv_path = META_OUT / f\"meta_{pid}_{profile_key}.csv\"\n",
    "        meta_df.to_csv(meta_csv_path, index=False)\n",
    "        print(f\"  → Full list of {len(meta_df)} indicators exported to: {meta_csv_path.name}\")\n",
    "    else:\n",
    "        print(\"No indicator metadata found.\")"
   ]
  },
  {
   "cell_type": "code",
   "execution_count": 18,
   "metadata": {},
   "outputs": [
    {
     "name": "stdout",
     "output_type": "stream",
     "text": [
      "\n",
      "--- Target Geographies ---\n",
      "{'MSOA': 102, 'UTLA': 101, 'ICB': 153, 'GP': 7}\n"
     ]
    }
   ],
   "source": [
    "# Decide geographies once, use everywhere ----------------------------------\n",
    "# area_type_id reference table\n",
    "area_types = phe_utils.get_area_types()\n",
    "\n",
    "# Note: Some IDs from the prompt were for MSOA/UTLA which can be ambiguous.\n",
    "# Using more specific IDs from the API documentation for clarity.\n",
    "# 101 = Counties & UAs (4/23), 102 = MSOAs (2011), 153 = ICBs (7/22), 152=Sub-ICBs (7/22)\n",
    "TARGET_AREA_TYPE_IDS = {\n",
    "    \"MSOA\": 102,\n",
    "    \"UTLA\": 101, # Counties & UAs\n",
    "    \"ICB\":  153,\n",
    "    \"GP\":   7,\n",
    "}\n",
    "print(\"\\n--- Target Geographies ---\")\n",
    "print(TARGET_AREA_TYPE_IDS)"
   ]
  },
  {
   "cell_type": "code",
   "execution_count": null,
   "metadata": {},
   "outputs": [],
   "source": []
  },
  {
   "cell_type": "code",
   "execution_count": 16,
   "metadata": {},
   "outputs": [
    {
     "name": "stdout",
     "output_type": "stream",
     "text": [
      "\n",
      "--- Combined Preview of Fetched Data ---\n",
      "No data was downloaded to preview.\n"
     ]
    }
   ],
   "source": [
    "# Quick peek across profiles ----------------------------------------------\n",
    "print(\"\\n--- Combined Preview of Fetched Data ---\")\n",
    "if preview_tables:\n",
    "    combined_preview = pd.concat(preview_tables, ignore_index=True)\n",
    "    print(combined_preview)\n",
    "else:\n",
    "    print(\"No data was downloaded to preview.\")\n"
   ]
  },
  {
   "cell_type": "code",
   "execution_count": null,
   "metadata": {},
   "outputs": [],
   "source": []
  },
  {
   "cell_type": "code",
   "execution_count": null,
   "metadata": {},
   "outputs": [],
   "source": []
  },
  {
   "cell_type": "markdown",
   "metadata": {},
   "source": [
    "### Setup\n",
    "We will use our utility functions from `src/phe_api_utils.py` to keep this notebook clean and focused on exploration."
   ]
  },
  {
   "cell_type": "code",
   "execution_count": 3,
   "metadata": {},
   "outputs": [],
   "source": [
    "import pandas as pd\n",
    "import sys\n",
    "sys.path.append('../src')\n",
    "import phe_api_utils as phe\n",
    "\n",
    "# Widen pandas display options\n",
    "pd.set_option('display.max_rows', 200)\n",
    "pd.set_option('display.max_colwidth', 100)"
   ]
  },
  {
   "cell_type": "markdown",
   "metadata": {},
   "source": [
    "### Step 1: List All Available Profiles\n",
    "\n",
    "A 'Profile' is a curated collection of indicators on a specific topic. This is our starting point. We need to identify the IDs of the profiles relevant to our project."
   ]
  },
  {
   "cell_type": "code",
   "execution_count": 4,
   "metadata": {},
   "outputs": [
    {
     "name": "stdout",
     "output_type": "stream",
     "text": [
      "Error fetching https://fingertips.phe.org.uk/api/profiles: ('Connection aborted.', RemoteDisconnected('Remote end closed connection without response'))\n",
      "All Available Profiles:\n"
     ]
    },
    {
     "ename": "KeyError",
     "evalue": "\"None of [Index(['Id', 'Name'], dtype='object')] are in the [columns]\"",
     "output_type": "error",
     "traceback": [
      "\u001b[0;31m---------------------------------------------------------------------------\u001b[0m",
      "\u001b[0;31mKeyError\u001b[0m                                  Traceback (most recent call last)",
      "Cell \u001b[0;32mIn[4], line 7\u001b[0m\n\u001b[1;32m      4\u001b[0m priority_profile_ids \u001b[38;5;241m=\u001b[39m [\u001b[38;5;241m19\u001b[39m, \u001b[38;5;241m20\u001b[39m, \u001b[38;5;241m135\u001b[39m, \u001b[38;5;241m84\u001b[39m, \u001b[38;5;241m139\u001b[39m, \u001b[38;5;241m92\u001b[39m, \u001b[38;5;241m29\u001b[39m, \u001b[38;5;241m105\u001b[39m, \u001b[38;5;241m130\u001b[39m, \u001b[38;5;241m58\u001b[39m, \u001b[38;5;241m41\u001b[39m]\n\u001b[1;32m      6\u001b[0m \u001b[38;5;28mprint\u001b[39m(\u001b[38;5;124m\"\u001b[39m\u001b[38;5;124mAll Available Profiles:\u001b[39m\u001b[38;5;124m\"\u001b[39m)\n\u001b[0;32m----> 7\u001b[0m display(\u001b[43mprofiles_df\u001b[49m\u001b[43m[\u001b[49m\u001b[43m[\u001b[49m\u001b[38;5;124;43m'\u001b[39;49m\u001b[38;5;124;43mId\u001b[39;49m\u001b[38;5;124;43m'\u001b[39;49m\u001b[43m,\u001b[49m\u001b[43m \u001b[49m\u001b[38;5;124;43m'\u001b[39;49m\u001b[38;5;124;43mName\u001b[39;49m\u001b[38;5;124;43m'\u001b[39;49m\u001b[43m]\u001b[49m\u001b[43m]\u001b[49m)\n\u001b[1;32m      9\u001b[0m \u001b[38;5;28mprint\u001b[39m(\u001b[38;5;124m\"\u001b[39m\u001b[38;5;130;01m\\n\u001b[39;00m\u001b[38;5;130;01m\\n\u001b[39;00m\u001b[38;5;124mPriority Profiles for our Project:\u001b[39m\u001b[38;5;124m\"\u001b[39m)\n\u001b[1;32m     10\u001b[0m display(profiles_df[profiles_df[\u001b[38;5;124m'\u001b[39m\u001b[38;5;124mId\u001b[39m\u001b[38;5;124m'\u001b[39m]\u001b[38;5;241m.\u001b[39misin(priority_profile_ids)][[\u001b[38;5;124m'\u001b[39m\u001b[38;5;124mId\u001b[39m\u001b[38;5;124m'\u001b[39m, \u001b[38;5;124m'\u001b[39m\u001b[38;5;124mName\u001b[39m\u001b[38;5;124m'\u001b[39m]])\n",
      "File \u001b[0;32m/opt/anaconda3/envs/health_modelling/lib/python3.10/site-packages/pandas/core/frame.py:4113\u001b[0m, in \u001b[0;36mDataFrame.__getitem__\u001b[0;34m(self, key)\u001b[0m\n\u001b[1;32m   4111\u001b[0m     \u001b[38;5;28;01mif\u001b[39;00m is_iterator(key):\n\u001b[1;32m   4112\u001b[0m         key \u001b[38;5;241m=\u001b[39m \u001b[38;5;28mlist\u001b[39m(key)\n\u001b[0;32m-> 4113\u001b[0m     indexer \u001b[38;5;241m=\u001b[39m \u001b[38;5;28;43mself\u001b[39;49m\u001b[38;5;241;43m.\u001b[39;49m\u001b[43mcolumns\u001b[49m\u001b[38;5;241;43m.\u001b[39;49m\u001b[43m_get_indexer_strict\u001b[49m\u001b[43m(\u001b[49m\u001b[43mkey\u001b[49m\u001b[43m,\u001b[49m\u001b[43m \u001b[49m\u001b[38;5;124;43m\"\u001b[39;49m\u001b[38;5;124;43mcolumns\u001b[39;49m\u001b[38;5;124;43m\"\u001b[39;49m\u001b[43m)\u001b[49m[\u001b[38;5;241m1\u001b[39m]\n\u001b[1;32m   4115\u001b[0m \u001b[38;5;66;03m# take() does not accept boolean indexers\u001b[39;00m\n\u001b[1;32m   4116\u001b[0m \u001b[38;5;28;01mif\u001b[39;00m \u001b[38;5;28mgetattr\u001b[39m(indexer, \u001b[38;5;124m\"\u001b[39m\u001b[38;5;124mdtype\u001b[39m\u001b[38;5;124m\"\u001b[39m, \u001b[38;5;28;01mNone\u001b[39;00m) \u001b[38;5;241m==\u001b[39m \u001b[38;5;28mbool\u001b[39m:\n",
      "File \u001b[0;32m/opt/anaconda3/envs/health_modelling/lib/python3.10/site-packages/pandas/core/indexes/base.py:6212\u001b[0m, in \u001b[0;36mIndex._get_indexer_strict\u001b[0;34m(self, key, axis_name)\u001b[0m\n\u001b[1;32m   6209\u001b[0m \u001b[38;5;28;01melse\u001b[39;00m:\n\u001b[1;32m   6210\u001b[0m     keyarr, indexer, new_indexer \u001b[38;5;241m=\u001b[39m \u001b[38;5;28mself\u001b[39m\u001b[38;5;241m.\u001b[39m_reindex_non_unique(keyarr)\n\u001b[0;32m-> 6212\u001b[0m \u001b[38;5;28;43mself\u001b[39;49m\u001b[38;5;241;43m.\u001b[39;49m\u001b[43m_raise_if_missing\u001b[49m\u001b[43m(\u001b[49m\u001b[43mkeyarr\u001b[49m\u001b[43m,\u001b[49m\u001b[43m \u001b[49m\u001b[43mindexer\u001b[49m\u001b[43m,\u001b[49m\u001b[43m \u001b[49m\u001b[43maxis_name\u001b[49m\u001b[43m)\u001b[49m\n\u001b[1;32m   6214\u001b[0m keyarr \u001b[38;5;241m=\u001b[39m \u001b[38;5;28mself\u001b[39m\u001b[38;5;241m.\u001b[39mtake(indexer)\n\u001b[1;32m   6215\u001b[0m \u001b[38;5;28;01mif\u001b[39;00m \u001b[38;5;28misinstance\u001b[39m(key, Index):\n\u001b[1;32m   6216\u001b[0m     \u001b[38;5;66;03m# GH 42790 - Preserve name from an Index\u001b[39;00m\n",
      "File \u001b[0;32m/opt/anaconda3/envs/health_modelling/lib/python3.10/site-packages/pandas/core/indexes/base.py:6261\u001b[0m, in \u001b[0;36mIndex._raise_if_missing\u001b[0;34m(self, key, indexer, axis_name)\u001b[0m\n\u001b[1;32m   6259\u001b[0m \u001b[38;5;28;01mif\u001b[39;00m nmissing:\n\u001b[1;32m   6260\u001b[0m     \u001b[38;5;28;01mif\u001b[39;00m nmissing \u001b[38;5;241m==\u001b[39m \u001b[38;5;28mlen\u001b[39m(indexer):\n\u001b[0;32m-> 6261\u001b[0m         \u001b[38;5;28;01mraise\u001b[39;00m \u001b[38;5;167;01mKeyError\u001b[39;00m(\u001b[38;5;124mf\u001b[39m\u001b[38;5;124m\"\u001b[39m\u001b[38;5;124mNone of [\u001b[39m\u001b[38;5;132;01m{\u001b[39;00mkey\u001b[38;5;132;01m}\u001b[39;00m\u001b[38;5;124m] are in the [\u001b[39m\u001b[38;5;132;01m{\u001b[39;00maxis_name\u001b[38;5;132;01m}\u001b[39;00m\u001b[38;5;124m]\u001b[39m\u001b[38;5;124m\"\u001b[39m)\n\u001b[1;32m   6263\u001b[0m     not_found \u001b[38;5;241m=\u001b[39m \u001b[38;5;28mlist\u001b[39m(ensure_index(key)[missing_mask\u001b[38;5;241m.\u001b[39mnonzero()[\u001b[38;5;241m0\u001b[39m]]\u001b[38;5;241m.\u001b[39munique())\n\u001b[1;32m   6264\u001b[0m     \u001b[38;5;28;01mraise\u001b[39;00m \u001b[38;5;167;01mKeyError\u001b[39;00m(\u001b[38;5;124mf\u001b[39m\u001b[38;5;124m\"\u001b[39m\u001b[38;5;132;01m{\u001b[39;00mnot_found\u001b[38;5;132;01m}\u001b[39;00m\u001b[38;5;124m not in index\u001b[39m\u001b[38;5;124m\"\u001b[39m)\n",
      "\u001b[0;31mKeyError\u001b[0m: \"None of [Index(['Id', 'Name'], dtype='object')] are in the [columns]\""
     ]
    }
   ],
   "source": [
    "profiles_df = phe.get_profiles()\n",
    "\n",
    "# Filter for the profiles identified as high-priority\n",
    "priority_profile_ids = [19, 20, 135, 84, 139, 92, 29, 105, 130, 58, 41]\n",
    "\n",
    "print(\"All Available Profiles:\")\n",
    "display(profiles_df[['Id', 'Name']])\n",
    "\n",
    "print(\"\\n\\nPriority Profiles for our Project:\")\n",
    "display(profiles_df[profiles_df['Id'].isin(priority_profile_ids)][['Id', 'Name']])"
   ]
  },
  {
   "cell_type": "markdown",
   "metadata": {},
   "source": [
    "### Step 2: Explore Indicators within a Key Profile (Public Health Outcomes Framework)\n",
    "\n",
    "Let's dive into the most comprehensive profile, the **Public Health Outcomes Framework (PHOF)**, which has `Profile ID = 19`. We can list all the indicators it contains to see what metrics are available."
   ]
  },
  {
   "cell_type": "code",
   "execution_count": null,
   "metadata": {},
   "outputs": [],
   "source": [
    "phof_profile_id = 19\n",
    "phof_indicators = phe.get_profile_indicators(phof_profile_id)\n",
    "\n",
    "print(f\"Found {len(phof_indicators)} indicators in the PHOF Profile (ID: {phof_profile_id}).\")\n",
    "print(\"Sample of available indicators:\")\n",
    "\n",
    "# Display a sample of columns and rows\n",
    "display(phof_indicators[['Name', 'Definition', 'Unit', 'YearType']].head(10))"
   ]
  },
  {
   "cell_type": "markdown",
   "metadata": {},
   "source": [
    "This gives us a huge list of potential metrics to model, from mortality rates to the prevalence of specific conditions."
   ]
  },
  {
   "cell_type": "markdown",
   "metadata": {},
   "source": [
    "### Step 3: List All Available Area Types\n",
    "\n",
    "Next, we need to know the different geographical levels at which we can analyse the data. This is crucial for matching health data to administrative boundaries like Integrated Care Boards (ICBs) or local authorities."
   ]
  },
  {
   "cell_type": "code",
   "execution_count": null,
   "metadata": {},
   "outputs": [],
   "source": [
    "area_types_df = phe.get_area_types()\n",
    "\n",
    "print(f\"Found {len(area_types_df)} different area types.\")\n",
    "print(\"Key Area Types for NHS Planning:\")\n",
    "\n",
    "# Filter for some common and useful area types\n",
    "useful_area_names = [\n",
    "    'Counties & UAs (from 4/23)',\n",
    "    'Sub-ICB Locations (from 7/22)',\n",
    "    'ICBs (from 7/22)',\n",
    "    'Middle Super Output Area',\n",
    "    'General Practice'\n",
    "]\n",
    "\n",
    "display(area_types_df[area_types_df['Name'].isin(useful_area_names)])"
   ]
  },
  {
   "cell_type": "markdown",
   "metadata": {},
   "source": [
    "This table gives us the `Id` for each geography. For example, to get data at the ICB level, we would use `Area Type ID = 153`."
   ]
  },
  {
   "cell_type": "markdown",
   "metadata": {},
   "source": [
    "### Step 4: Test Run - Fetching Sample Data\n",
    "\n",
    "Let's put it all together. We will fetch data for a specific indicator and area type.\n",
    "\n",
    "- **Indicator**: 'Prevalence of diagnosed hypertension' (Indicator ID 224, from PHOF)\n",
    "- **Area Type**: ICBs (Area Type ID 153)"
   ]
  },
  {
   "cell_type": "code",
   "execution_count": null,
   "metadata": {},
   "outputs": [],
   "source": [
    "indicator_id = 224 # Diagnosed hypertension\n",
    "area_type_id = 153 # ICBs (from 7/22)\n",
    "\n",
    "hypertension_data_icb = phe.get_data_for_indicator(indicator_id, area_type_id)\n",
    "\n",
    "print(f\"Successfully fetched {len(hypertension_data_icb)} records.\")\n",
    "print(\"Sample of Hypertension Prevalence Data for all ICBs:\")\n",
    "display(hypertension_data_icb.head())"
   ]
  },
  {
   "cell_type": "markdown",
   "metadata": {},
   "source": [
    "## Conclusion and Next Steps\n",
    "\n",
    "We have successfully mapped the key components of the Fingertips API. We know how to:\n",
    "1.  Find the `Id` of a **Profile** we care about.\n",
    "2.  Find the `Id` of an **Indicator** within that profile.\n",
    "3.  Find the `Id` of an **Area Type** for our desired geography.\n",
    "4.  Use these IDs to fetch the raw data.\n",
    "\n",
    "This notebook provides the foundation for our data acquisition phase. In the following notebooks, we will systematically work through our priority profiles, extract the relevant data for the South West region, and prepare it for analysis and for testing against our PDF models."
   ]
  }
 ],
 "metadata": {
  "kernelspec": {
   "display_name": "Python 3 (ipykernel)",
   "language": "python",
   "name": "python3"
  },
  "language_info": {
   "codemirror_mode": {
    "name": "ipython",
    "version": 3
   },
   "file_extension": ".py",
   "mimetype": "text/x-python",
   "name": "python",
   "nbconvert_exporter": "python",
   "pygments_lexer": "ipython3",
   "version": "3.10.18"
  }
 },
 "nbformat": 4,
 "nbformat_minor": 4
}
